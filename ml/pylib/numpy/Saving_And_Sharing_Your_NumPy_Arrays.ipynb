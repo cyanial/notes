{
 "cells": [
  {
   "cell_type": "markdown",
   "id": "58c858ec",
   "metadata": {},
   "source": [
    "# Saving and sharing your NumPy arrays"
   ]
  },
  {
   "cell_type": "code",
   "execution_count": 1,
   "id": "24173ff7",
   "metadata": {},
   "outputs": [],
   "source": [
    "import numpy as np"
   ]
  },
  {
   "cell_type": "markdown",
   "id": "ee3f8113",
   "metadata": {},
   "source": [
    "## Create your arrays"
   ]
  },
  {
   "cell_type": "markdown",
   "id": "42d57bf6",
   "metadata": {},
   "source": [
    "Now that you have imprted the NumPy library, you can make a couple of arraysl let's start with two 1D arrays, `x` and `y`, where `y = x**2`. you will assign `x` to the integers from 0 to 9 using `np.arange`."
   ]
  },
  {
   "cell_type": "code",
   "execution_count": null,
   "id": "55eb15da",
   "metadata": {},
   "outputs": [],
   "source": [
    "x = np.arange(0, 10, 1)\n",
    "y = x ** 2\n",
    "print(x)\n",
    "print(y)"
   ]
  },
  {
   "cell_type": "markdown",
   "id": "04c50110",
   "metadata": {},
   "source": [
    "## Save your arrays with NumPy's `savez`"
   ]
  },
  {
   "cell_type": "markdown",
   "id": "f98e8136",
   "metadata": {},
   "source": [
    "The first thing you will do is save them to a file as zipped arrays using `savez`. You will use two options to label the arrys in the file,\n",
    "\n",
    "1. `x_axis = x`: the option is assigning the name `x_axis` to the variable `x`\n",
    "2. `y_axis = y`: the option is assigning the name `y_axis` to the variable `y`"
   ]
  },
  {
   "cell_type": "code",
   "execution_count": 4,
   "id": "bef073ea",
   "metadata": {},
   "outputs": [],
   "source": [
    "np.savez(\"x_y_squared.npz\", x_axis=x, y_axis=y)"
   ]
  },
  {
   "cell_type": "markdown",
   "id": "caced920",
   "metadata": {},
   "source": [
    "Remove the saved arrays and load them back with NumPy's `load`"
   ]
  }
 ],
 "metadata": {
  "kernelspec": {
   "display_name": "Python 3 (ipykernel)",
   "language": "python",
   "name": "python3"
  },
  "language_info": {
   "codemirror_mode": {
    "name": "ipython",
    "version": 3
   },
   "file_extension": ".py",
   "mimetype": "text/x-python",
   "name": "python",
   "nbconvert_exporter": "python",
   "pygments_lexer": "ipython3",
   "version": "3.8.9"
  }
 },
 "nbformat": 4,
 "nbformat_minor": 5
}
