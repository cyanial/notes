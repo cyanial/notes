{
 "cells": [
  {
   "cell_type": "markdown",
   "id": "58c858ec",
   "metadata": {},
   "source": [
    "# Saving and sharing your NumPy arrays"
   ]
  },
  {
   "cell_type": "code",
   "execution_count": 3,
   "id": "24173ff7",
   "metadata": {},
   "outputs": [],
   "source": [
    "import numpy as np"
   ]
  },
  {
   "cell_type": "markdown",
   "id": "ee3f8113",
   "metadata": {},
   "source": [
    "## Create your arrays"
   ]
  },
  {
   "cell_type": "markdown",
   "id": "42d57bf6",
   "metadata": {},
   "source": [
    "Now that you have imprted the NumPy library, you can make a couple of arraysl let's start with two 1D arrays, `x` and `y`, where `y = x**2`. you will assign `x` to the integers from 0 to 9 using `np.arange`."
   ]
  },
  {
   "cell_type": "code",
   "execution_count": null,
   "id": "55eb15da",
   "metadata": {},
   "outputs": [],
   "source": [
    "x = np.arange(0, 10, 1)\n",
    "y = x ** 2\n",
    "print(x)\n",
    "print(y)"
   ]
  },
  {
   "cell_type": "markdown",
   "id": "04c50110",
   "metadata": {},
   "source": [
    "## Save your arrays with NumPy's `savez`"
   ]
  },
  {
   "cell_type": "markdown",
   "id": "f98e8136",
   "metadata": {},
   "source": [
    "The first thing you will do is save them to a file as zipped arrays using `savez`. You will use two options to label the arrys in the file,\n",
    "\n",
    "1. `x_axis = x`: the option is assigning the name `x_axis` to the variable `x`\n",
    "2. `y_axis = y`: the option is assigning the name `y_axis` to the variable `y`"
   ]
  },
  {
   "cell_type": "code",
   "execution_count": 4,
   "id": "bef073ea",
   "metadata": {},
   "outputs": [],
   "source": [
    "np.savez(\"x_y_squared.npz\", x_axis=x, y_axis=y)"
   ]
  },
  {
   "cell_type": "markdown",
   "id": "caced920",
   "metadata": {},
   "source": [
    "## Remove the saved arrays and load them back with NumPy's `load`"
   ]
  },
  {
   "cell_type": "markdown",
   "id": "a033f1bf",
   "metadata": {},
   "source": [
    "1. remove `x` and `y` from the workspace widh `del`\n",
    "2. load the arrarys into the workspace in a dictionary with `np.load`\n",
    "\n",
    "To see what variables are in the workspace, use the Jupyter/IPython \"magic\" command `whos`."
   ]
  },
  {
   "cell_type": "code",
   "execution_count": 1,
   "id": "07e05085",
   "metadata": {},
   "outputs": [
    {
     "ename": "NameError",
     "evalue": "name 'x' is not defined",
     "output_type": "error",
     "traceback": [
      "\u001b[0;31m---------------------------------------------------------------------------\u001b[0m",
      "\u001b[0;31mNameError\u001b[0m                                 Traceback (most recent call last)",
      "Input \u001b[0;32mIn [1]\u001b[0m, in \u001b[0;36m<module>\u001b[0;34m\u001b[0m\n\u001b[0;32m----> 1\u001b[0m \u001b[38;5;28;01mdel\u001b[39;00m x, y\n",
      "\u001b[0;31mNameError\u001b[0m: name 'x' is not defined"
     ]
    }
   ],
   "source": [
    "del x, y"
   ]
  },
  {
   "cell_type": "code",
   "execution_count": 6,
   "id": "4dbba66d",
   "metadata": {},
   "outputs": [
    {
     "name": "stdout",
     "output_type": "stream",
     "text": [
      "['x_axis', 'y_axis']\n"
     ]
    }
   ],
   "source": [
    "load_xy = np.load(\"x_y_squared.npz\")\n",
    "print(load_xy.files)"
   ]
  },
  {
   "cell_type": "code",
   "execution_count": 4,
   "id": "116220af",
   "metadata": {},
   "outputs": [
    {
     "name": "stdout",
     "output_type": "stream",
     "text": [
      "Variable   Type      Data/Info\n",
      "------------------------------\n",
      "np         module    <module 'numpy' from '/Us<...>kages/numpy/__init__.py'>\n"
     ]
    }
   ],
   "source": [
    "%whos"
   ]
  },
  {
   "cell_type": "markdown",
   "id": "4f2e3536",
   "metadata": {},
   "source": [
    "## Reassign the NpzFile arrays to `x` and `y`"
   ]
  },
  {
   "cell_type": "code",
   "execution_count": 8,
   "id": "d34ed8d6",
   "metadata": {},
   "outputs": [
    {
     "name": "stdout",
     "output_type": "stream",
     "text": [
      "[0 1 2 3 4 5 6 7 8 9]\n",
      "[ 0  1  4  9 16 25 36 49 64 81]\n"
     ]
    }
   ],
   "source": [
    "x = load_xy[\"x_axis\"]\n",
    "y = load_xy[\"y_axis\"]\n",
    "print(x)\n",
    "print(y)"
   ]
  },
  {
   "cell_type": "markdown",
   "id": "196c16e6",
   "metadata": {},
   "source": [
    "## Another option: saving to human-readable csv "
   ]
  },
  {
   "cell_type": "markdown",
   "id": "ea8cb228",
   "metadata": {},
   "source": [
    "You use the `savetxt` to save `x` and `y` in comma separated value file, `x_y_squared.csv`. The resulting csv is composed if ASCII characters. You can load the file back into NumPy or read it with other programs."
   ]
  },
  {
   "cell_type": "markdown",
   "id": "88c8b500",
   "metadata": {},
   "source": [
    "## Rearrange the data into a single 2D array"
   ]
  },
  {
   "cell_type": "markdown",
   "id": "a68504b7",
   "metadata": {},
   "source": [
    "First, you have to create a single 2D array from your two 1D arrays. The csv-filetype is a spreadsheet-style dataset. The csv arranges numbers in rows-separated by new lines-and columns-separated by commas. You use two NumPy functions to format the data:\n",
    "\n",
    "1. `np.block`: this function appends arrays together into a 2D array\n",
    "2. `np.newaxis`: this function forces the 1D array into a 2D column vector with 10 rows and 1 column."
   ]
  },
  {
   "cell_type": "code",
   "execution_count": 9,
   "id": "a9ac84fb",
   "metadata": {},
   "outputs": [
    {
     "name": "stdout",
     "output_type": "stream",
     "text": [
      "the output array has shape  (10, 2) with values: \n",
      "[[ 0  0]\n",
      " [ 1  1]\n",
      " [ 2  4]\n",
      " [ 3  9]\n",
      " [ 4 16]\n",
      " [ 5 25]\n",
      " [ 6 36]\n",
      " [ 7 49]\n",
      " [ 8 64]\n",
      " [ 9 81]]\n"
     ]
    }
   ],
   "source": [
    "array_out = np.block([x[:, np.newaxis], y[:, np.newaxis]])\n",
    "print(\"the output array has shape \", array_out.shape, \"with values: \")\n",
    "print(array_out)"
   ]
  },
  {
   "cell_type": "markdown",
   "id": "9dae61b2",
   "metadata": {},
   "source": [
    "## Save the data to csv file using `savetxt`"
   ]
  },
  {
   "cell_type": "markdown",
   "id": "7f0c0ce2",
   "metadata": {},
   "source": [
    "You use `savetxt` with a three options to make your file easier to read:\n",
    "\n",
    "- `X = array_out`: this option thells `savetxt` to save your 2D array, `array_out`, to the file `x_y_squared.csv`\n",
    "- `header = 'x, y'`L this option writes a header before any daa that labels the columns of the csv\n",
    "- `delimter = ','`: this option tells `savetxt` to place a comma between each column in the file"
   ]
  },
  {
   "cell_type": "code",
   "execution_count": 10,
   "id": "a62a857b",
   "metadata": {},
   "outputs": [],
   "source": [
    "np.savetxt(\"x_y_squared.csv\", X=array_out, header=\"x, y\", delimiter=\",\")"
   ]
  },
  {
   "cell_type": "markdown",
   "id": "361c1b87",
   "metadata": {},
   "source": [
    "## Load CSV"
   ]
  },
  {
   "cell_type": "code",
   "execution_count": 14,
   "id": "885b544f",
   "metadata": {},
   "outputs": [
    {
     "ename": "NameError",
     "evalue": "name 'x' is not defined",
     "output_type": "error",
     "traceback": [
      "\u001b[0;31m---------------------------------------------------------------------------\u001b[0m",
      "\u001b[0;31mNameError\u001b[0m                                 Traceback (most recent call last)",
      "Input \u001b[0;32mIn [14]\u001b[0m, in \u001b[0;36m<module>\u001b[0;34m\u001b[0m\n\u001b[0;32m----> 1\u001b[0m \u001b[38;5;28;01mdel\u001b[39;00m x, y\n",
      "\u001b[0;31mNameError\u001b[0m: name 'x' is not defined"
     ]
    }
   ],
   "source": [
    "del x, y"
   ]
  },
  {
   "cell_type": "code",
   "execution_count": 17,
   "id": "deb42bb9",
   "metadata": {},
   "outputs": [],
   "source": [
    "load_xy = np.loadtxt(\"x_y_squared.csv\", delimiter=\",\")"
   ]
  },
  {
   "cell_type": "code",
   "execution_count": 18,
   "id": "6154ce17",
   "metadata": {},
   "outputs": [
    {
     "data": {
      "text/plain": [
       "(10, 2)"
      ]
     },
     "execution_count": 18,
     "metadata": {},
     "output_type": "execute_result"
    }
   ],
   "source": [
    "load_xy.shape"
   ]
  },
  {
   "cell_type": "code",
   "execution_count": 19,
   "id": "af8d692a",
   "metadata": {},
   "outputs": [
    {
     "name": "stdout",
     "output_type": "stream",
     "text": [
      "[0. 1. 2. 3. 4. 5. 6. 7. 8. 9.]\n",
      "[ 0.  1.  4.  9. 16. 25. 36. 49. 64. 81.]\n"
     ]
    }
   ],
   "source": [
    "x = load_xy[:, 0]\n",
    "y = load_xy[:, 1]\n",
    "print(x)\n",
    "print(y)"
   ]
  },
  {
   "cell_type": "markdown",
   "id": "09bd0fba",
   "metadata": {},
   "source": [
    "## Success, but remeber your types"
   ]
  },
  {
   "cell_type": "markdown",
   "id": "51515a85",
   "metadata": {},
   "source": [
    "When you saved the arrays to the csv file, you did not preserve the `int` type. When loading the arrays back into your workspace the default process will be to load the csv file as a 2D floating point array e.g `load_xy.dtype == 'float64'` and `load_xy.shape == (10, 2)`."
   ]
  }
 ],
 "metadata": {
  "kernelspec": {
   "display_name": "Python 3 (ipykernel)",
   "language": "python",
   "name": "python3"
  },
  "language_info": {
   "codemirror_mode": {
    "name": "ipython",
    "version": 3
   },
   "file_extension": ".py",
   "mimetype": "text/x-python",
   "name": "python",
   "nbconvert_exporter": "python",
   "pygments_lexer": "ipython3",
   "version": "3.8.9"
  }
 },
 "nbformat": 4,
 "nbformat_minor": 5
}
